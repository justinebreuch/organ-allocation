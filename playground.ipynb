{
 "cells": [
  {
   "cell_type": "code",
   "execution_count": null,
   "metadata": {},
   "outputs": [],
   "source": [
    "!pip install openpyxl bs4 scikit-learn"
   ]
  },
  {
   "cell_type": "code",
   "execution_count": 1,
   "metadata": {},
   "outputs": [],
   "source": [
    "%load_ext autoreload\n",
    "%autoreload 2"
   ]
  },
  {
   "cell_type": "code",
   "execution_count": 6,
   "metadata": {},
   "outputs": [],
   "source": [
    "import pandas as pd\n",
    "import numpy as np\n",
    "from src.utils import *"
   ]
  },
  {
   "cell_type": "markdown",
   "metadata": {},
   "source": [
    "## Organ data \n",
    "Has waitlist and transplant information (living donor data removed)\n",
    "\n",
    "Waiting list registrations can be selected by choosing records where WAITLIST_ID is not null.\n",
    "\n",
    "Transplants performed can be selected by choosing records where ORGAN_TRANSPLANT_ID is not null. "
   ]
  },
  {
   "cell_type": "code",
   "execution_count": null,
   "metadata": {},
   "outputs": [],
   "source": [
    "liver_organ_df, organ_dictionary = read_organ_data()\n",
    "liver_organ_df"
   ]
  },
  {
   "cell_type": "code",
   "execution_count": null,
   "metadata": {},
   "outputs": [],
   "source": [
    "transplants_with_matched_donors = get_available_organs_on_date(pd.to_datetime('2012-12-27'))\n",
    "transplants_with_matched_donors"
   ]
  },
  {
   "cell_type": "code",
   "execution_count": null,
   "metadata": {},
   "outputs": [],
   "source": [
    "waitlist_members = get_waitlist_members_on_date(pd.to_datetime('2012-12-27'))\n",
    "waitlist_members"
   ]
  },
  {
   "cell_type": "markdown",
   "metadata": {},
   "source": [
    "## Follow-up data\n",
    "This is extra info because the most important follow-up data is in organ data"
   ]
  },
  {
   "cell_type": "code",
   "execution_count": null,
   "metadata": {},
   "outputs": [],
   "source": [
    "liver_follow_up_df, follow_up_column_to_description_map = read_follow_up_data('LIVER_FOLLOWUP_DATA', 'Delimited Text File 202409/Liver/Individual Follow-up Records/LIVER_FOLLOWUP_DATA.DAT')"
   ]
  },
  {
   "cell_type": "markdown",
   "metadata": {},
   "source": [
    "## Donor data\n",
    "This is to get utilization rates. It includes all donor information (filtered on deceased donors)"
   ]
  },
  {
   "cell_type": "code",
   "execution_count": null,
   "metadata": {},
   "outputs": [],
   "source": [
    "deceased_donor_df, donor_column_to_description_map = read_donor_data()"
   ]
  },
  {
   "cell_type": "markdown",
   "metadata": {},
   "source": [
    "## Create a dataloader"
   ]
  },
  {
   "cell_type": "markdown",
   "metadata": {},
   "source": [
    "We need to create @dataclasses for states and actions and load that instead but while we decide how to model state, you can load the staright data"
   ]
  },
  {
   "cell_type": "code",
   "execution_count": null,
   "metadata": {},
   "outputs": [],
   "source": [
    "from src.dataloader import *\n",
    "\n",
    "data_loader = DataLoader(dataframe=deceased_donor_df, batch_size=1)\n",
    "train_loader, test_loader = data_loader.get_train_dataloader(), data_loader.get_test_dataloader()\n",
    "\n",
    "for batch in train_loader:\n",
    "    print(\"Train batch:\", batch)"
   ]
  }
 ],
 "metadata": {
  "kernelspec": {
   "display_name": "cs238",
   "language": "python",
   "name": "python3"
  },
  "language_info": {
   "codemirror_mode": {
    "name": "ipython",
    "version": 3
   },
   "file_extension": ".py",
   "mimetype": "text/x-python",
   "name": "python",
   "nbconvert_exporter": "python",
   "pygments_lexer": "ipython3",
   "version": "3.10.14"
  }
 },
 "nbformat": 4,
 "nbformat_minor": 2
}
